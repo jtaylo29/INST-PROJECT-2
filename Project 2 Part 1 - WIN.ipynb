{
 "cells": [
  {
   "cell_type": "code",
   "execution_count": null,
   "metadata": {},
   "outputs": [],
   "source": [
    "#Enter only uppercase letters\n",
    "import time\n",
    "import random\n",
    "\n",
    "time.sleep(1)\n",
    "\n",
    "words = [\"WHDSPQZ\", \"XHO\", \"TTDBFRT\", \"QQJYF\", \"ENQD\", \"DNPK\", \"CNTR\", \"EHWHOD\", \"TSVMOHOF\", \"XNOCFQGTM\"]\n",
    "\n",
    "#Word will be randomly chosen from list of words\n",
    "word = random.choice(words)\n",
    "\n",
    "print(\"Guess the characters in the word. Enter uppercase letter only\")\n",
    "\n",
    "guesses = \"\"\n",
    "\n",
    "turns = 10\n",
    "\n",
    "while turns > 0:\n",
    "    failed = 0\n",
    "    for char in word:\n",
    "        if char in guesses:\n",
    "            print(char)\n",
    "        else:\n",
    "            print(\"-\")\n",
    "            failed += 1\n",
    "    \n",
    "    if failed == 0:\n",
    "        print(\"You win!\")\n",
    "        print(\"The word is:\", word)\n",
    "        break\n",
    "    \n",
    "    guess = input(\"guess a character:\")\n",
    "    \n",
    "    guesses += guess\n",
    "    \n",
    "    if guess not in word:\n",
    "        turns -= 1\n",
    "        print(\"Wrong\")\n",
    "        \n",
    "    print(\"You have\", +turns, \"more guesses\")\n",
    "    if turns == 0:\n",
    "        print(\"You Lose\")\n",
    "        print(\"The word is:\", word)\n",
    "        "
   ]
  },
  {
   "cell_type": "code",
   "execution_count": null,
   "metadata": {},
   "outputs": [],
   "source": []
  }
 ],
 "metadata": {
  "kernelspec": {
   "display_name": "Python 3",
   "language": "python",
   "name": "python3"
  },
  "language_info": {
   "codemirror_mode": {
    "name": "ipython",
    "version": 3
   },
   "file_extension": ".py",
   "mimetype": "text/x-python",
   "name": "python",
   "nbconvert_exporter": "python",
   "pygments_lexer": "ipython3",
   "version": "3.8.6"
  }
 },
 "nbformat": 4,
 "nbformat_minor": 4
}
